{
 "cells": [
  {
   "cell_type": "code",
   "execution_count": null,
   "metadata": {},
   "outputs": [],
   "source": [
    "# source /opt/envvars.sh\n",
    "\n",
    "!pip3 install python-dotenv\n",
    "%load_ext dotenv\n",
    "%dotenv -o /opt/envvars.sh\n",
    "%env"
   ]
  },
  {
   "cell_type": "markdown",
   "metadata": {},
   "source": [
    "# YARN"
   ]
  },
  {
   "cell_type": "markdown",
   "metadata": {},
   "source": [
    "## YARN - Web interface\n",
    "\n",
    "- Master node\n",
    "    - Resource Manager: http://localhost:8088\n",
    "    - Timeline Service: http://localhost:8188\n",
    "- Worker node\n",
    "    - hadoop1\n",
    "        - NodeManager: http://localhost:8042\n",
    "    - hadoop2\n",
    "        - NodeManager: http://localhost:8043\n",
    "    - hadoop3\n",
    "        - NodeManager: http://localhost:8044"
   ]
  },
  {
   "attachments": {},
   "cell_type": "markdown",
   "metadata": {},
   "source": [
    "## Hadoop MapReduce Examples\n",
    "\n",
    "```\n",
    "$HADOOP_HOME/share/hadoop/mapreduce/hadoop-mapreduce-examples-3.2.3.jar\n",
    "```\n",
    "\n",
    "- aggregatewordcount: An Aggregate based map/reduce program that counts the words in the input files.\n",
    "- aggregatewordhist: An Aggregate based map/reduce program that computes the histogram of the words in the input files.\n",
    "- bbp: A map/reduce program that uses Bailey-Borwein-Plouffe to compute exact digits of Pi.\n",
    "- dbcount: An example job that count the pageview counts from a database.\n",
    "- distbbp: A map/reduce program that uses a BBP-type formula to compute exact bits of Pi.\n",
    "- grep: A map/reduce program that counts the matches of a regex in the input.\n",
    "- join: A job that effects a join over sorted, equally partitioned datasets\n",
    "- multifilewc: A job that counts words from several files.\n",
    "- pentomino: A map/reduce tile laying program to find solutions to pentomino problems.\n",
    "- pi: A map/reduce program that estimates Pi using a quasi-Monte Carlo method.\n",
    "- randomtextwriter: A map/reduce program that writes 10GB of random textual data per node.\n",
    "- randomwriter: A map/reduce program that writes 10GB of random data per node.\n",
    "- secondarysort: An example defining a secondary sort to the reduce.\n",
    "- sort: A map/reduce program that sorts the data written by the random writer.\n",
    "- sudoku: A sudoku solver.\n",
    "- teragen: Generate data for the terasort\n",
    "- terasort: Run the terasort\n",
    "- teravalidate: Checking results of terasort\n",
    "- wordcount: A map/reduce program that counts the words in the input files.\n",
    "- wordmean: A map/reduce program that counts the average length of the words in the input files.\n",
    "- wordmedian: A map/reduce program that counts the median length of the words in the input files.\n",
    "- wordstandarddeviation: A map/reduce program that counts the standard deviation of the length of the words in the input files.\n"
   ]
  },
  {
   "cell_type": "code",
   "execution_count": null,
   "metadata": {},
   "outputs": [],
   "source": [
    "%%bash\n",
    "\n",
    "cd /opt/hadoop/share/hadoop/mapreduce\n",
    "\n",
    "# hadoop jar ./hadoop-mapreduce-examples-3.2.3.jar\n",
    "\n",
    "# randomwriter: A map/reduce program that writes 10GB of random data per node\n",
    "# configured for 150MB of random text / 50 MB per map (3 maps)\n",
    "hadoop jar ./hadoop-mapreduce-examples-3.2.3.jar randomtextwriter \\\n",
    "  -D mapreduce.randomtextwriter.totalbytes=157286400 \\\n",
    "  -D mapreduce.randomtextwriter.bytespermap=52428800 \\\n",
    "  -D mapreduce.output.fileoutputformat.compress=false \\\n",
    "  -outFormat org.apache.hadoop.mapreduce.lib.output.TextOutputFormat \\\n",
    "  randomtext\n",
    "\n",
    "# wordcount: A map/reduce program that counts the words in the input files\n",
    "hadoop jar ./hadoop-mapreduce-examples-3.2.3.jar wordcount randomtext randomtextcount\n",
    "\n"
   ]
  },
  {
   "cell_type": "code",
   "execution_count": null,
   "metadata": {},
   "outputs": [],
   "source": [
    "%%bash\n",
    "\n",
    "cd /opt/hadoop/share/hadoop/mapreduce\n",
    "\n",
    "# Teragen - 200MB\n",
    "hadoop jar ./hadoop-mapreduce-examples-3.2.3.jar teragen \\\n",
    "  2000000 \\\n",
    "  teragenoutput\n",
    "\n",
    "# Terasort\n",
    "hadoop jar ./hadoop-mapreduce-examples-3.2.3.jar terasort \\\n",
    "  teragenoutput terasortoutput"
   ]
  },
  {
   "attachments": {},
   "cell_type": "markdown",
   "metadata": {},
   "source": [
    "## YARN - CLI\n",
    "\n",
    "- https://hadoop.apache.org/docs/r3.2.3/hadoop-yarn/hadoop-yarn-site/YarnCommands.html"
   ]
  },
  {
   "cell_type": "code",
   "execution_count": null,
   "metadata": {},
   "outputs": [],
   "source": [
    "%%bash\n",
    "\n",
    "yarn help\n"
   ]
  },
  {
   "cell_type": "markdown",
   "metadata": {},
   "source": [
    "### List cluster node status"
   ]
  },
  {
   "cell_type": "code",
   "execution_count": null,
   "metadata": {},
   "outputs": [],
   "source": [
    "%%bash\n",
    "\n",
    "yarn node -all -list -showDetails\n",
    "\n"
   ]
  },
  {
   "cell_type": "markdown",
   "metadata": {},
   "source": [
    "### List applications"
   ]
  },
  {
   "cell_type": "code",
   "execution_count": null,
   "metadata": {},
   "outputs": [],
   "source": [
    "%%bash\n",
    "\n",
    "# Current applications (running or accepted)\n",
    "# yarn app -list\n",
    "# Applications already executed\n",
    "yarn app -list -appStates ALL\n"
   ]
  },
  {
   "cell_type": "markdown",
   "metadata": {},
   "source": [
    "### List queue status"
   ]
  },
  {
   "cell_type": "code",
   "execution_count": null,
   "metadata": {},
   "outputs": [],
   "source": [
    "%%bash\n",
    "\n",
    "yarn queue -status default"
   ]
  },
  {
   "cell_type": "markdown",
   "metadata": {},
   "source": [
    "### Get application log"
   ]
  },
  {
   "cell_type": "code",
   "execution_count": null,
   "metadata": {},
   "outputs": [],
   "source": [
    "%%bash\n",
    "\n",
    "APPID=$(yarn application -list -appStates FINISHED 2>/dev/null | tail -1 | awk '{ print $1 }')\n",
    "echo \"Getting logs for $APPID\"\n",
    "yarn logs -applicationId $APPID 2>/dev/null | head -n 50"
   ]
  },
  {
   "cell_type": "markdown",
   "metadata": {},
   "source": [
    "### Kill application"
   ]
  },
  {
   "cell_type": "code",
   "execution_count": null,
   "metadata": {},
   "outputs": [],
   "source": [
    "%%bash\n",
    "\n",
    "APPID=$(yarn application -list -appStates RUNNING 2>/dev/null | tail -1 | awk '{ print $1 }')\n",
    "echo \"Killing $APPID\"\n",
    "yarn application -kill $APPID"
   ]
  },
  {
   "cell_type": "markdown",
   "metadata": {},
   "source": [
    "### Handling nodemanager failures\n",
    "\n",
    "- yarn.nm.liveness-monitor.expiry-interval-ms property in yarn-site.xml\n",
    " - set to 10000 (10 seconds) / default is 600000 (10 minutes)"
   ]
  },
  {
   "cell_type": "code",
   "execution_count": null,
   "metadata": {},
   "outputs": [],
   "source": [
    "%%bash\n",
    "\n",
    "# simulate node fault\n",
    "ssh hadoop1 'kill -9 $(cat /tmp/hadoop-hadoop-nodemanager.pid)'"
   ]
  },
  {
   "cell_type": "markdown",
   "metadata": {},
   "source": [
    "- http://localhost:8088/cluster/nodes\n",
    "- Wait 10 seconds to discover node failure"
   ]
  },
  {
   "cell_type": "code",
   "execution_count": null,
   "metadata": {},
   "outputs": [],
   "source": [
    "%%bash\n",
    "\n",
    "yarn node -list -showDetails"
   ]
  },
  {
   "cell_type": "code",
   "execution_count": null,
   "metadata": {},
   "outputs": [],
   "source": [
    "%%bash\n",
    "\n",
    "# Restart nodemanager\n",
    "ssh hadoop1 /opt/hadoop/bin/yarn --daemon start nodemanager"
   ]
  },
  {
   "cell_type": "code",
   "execution_count": null,
   "metadata": {},
   "outputs": [],
   "source": []
  }
 ],
 "metadata": {
  "kernelspec": {
   "display_name": "Python 3",
   "language": "python",
   "name": "python3"
  },
  "language_info": {
   "codemirror_mode": {
    "name": "ipython",
    "version": 3
   },
   "file_extension": ".py",
   "mimetype": "text/x-python",
   "name": "python",
   "nbconvert_exporter": "python",
   "pygments_lexer": "ipython3",
   "version": "3.6.9"
  }
 },
 "nbformat": 4,
 "nbformat_minor": 4
}
