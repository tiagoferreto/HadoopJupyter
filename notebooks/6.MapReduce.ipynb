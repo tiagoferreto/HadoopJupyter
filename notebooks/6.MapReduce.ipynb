{
 "cells": [
  {
   "cell_type": "code",
   "execution_count": null,
   "metadata": {},
   "outputs": [],
   "source": [
    "# Load environment variables\n",
    "%load_ext dotenv\n",
    "%dotenv -o /opt/envvars.sh\n",
    "%env"
   ]
  },
  {
   "cell_type": "markdown",
   "metadata": {},
   "source": [
    "# MapReduce"
   ]
  },
  {
   "cell_type": "markdown",
   "metadata": {},
   "source": [
    "## Java Map Reduce API - WordCount"
   ]
  },
  {
   "cell_type": "code",
   "execution_count": null,
   "metadata": {},
   "outputs": [],
   "source": [
    "%mkdir -p /opt/src/wc_java\n",
    "%cd /opt/src/wc_java"
   ]
  },
  {
   "cell_type": "code",
   "execution_count": null,
   "metadata": {},
   "outputs": [],
   "source": [
    "%%writefile WordCountDriver.java\n",
    "// WordCountDriver.java\n",
    "import org.apache.hadoop.fs.Path;\n",
    "import org.apache.hadoop.io.IntWritable;\n",
    "import org.apache.hadoop.io.Text;\n",
    "import org.apache.hadoop.mapreduce.lib.input.FileInputFormat;\n",
    "import org.apache.hadoop.mapreduce.lib.output.FileOutputFormat;\n",
    "import org.apache.hadoop.mapreduce.Job;\n",
    "import org.apache.hadoop.conf.Configured;\n",
    "import org.apache.hadoop.conf.Configuration;\n",
    "import org.apache.hadoop.util.Tool;\n",
    "import org.apache.hadoop.util.ToolRunner;\n",
    "\n",
    "public class WordCountDriver extends Configured implements Tool {\n",
    "  public int run(String[] args) throws Exception {\n",
    "   if (args.length != 2) {\n",
    "    System.out.printf(\"Usage: %s [generic options] <inputdir> <outputdir>\\n\", getClass().getSimpleName());\n",
    "    return -1;\n",
    "   }\n",
    "\n",
    "   Job job = Job.getInstance(getConf(), \"Word Count\");\n",
    "   job.setJarByClass(WordCountDriver.class);\n",
    "   FileInputFormat.setInputPaths(job, new Path(args[0]));\n",
    "   FileOutputFormat.setOutputPath(job, new Path(args[1]));\n",
    "   job.setMapperClass(WordCountMapper.class);\n",
    "   job.setReducerClass(WordCountReducer.class);\n",
    "   job.setMapOutputKeyClass(Text.class);\n",
    "   job.setMapOutputValueClass(IntWritable.class);\n",
    "   job.setOutputKeyClass(Text.class);\n",
    "   job.setOutputValueClass(IntWritable.class);\n",
    "   boolean success = job.waitForCompletion(true);\n",
    "   return success ? 0 : 1;\n",
    " }\n",
    "\n",
    " public static void main(String[] args) throws Exception {\n",
    "   int exitCode = ToolRunner.run(new Configuration(), new WordCountDriver(), args);\n",
    "   System.exit(exitCode);\n",
    " }\n",
    "}"
   ]
  },
  {
   "cell_type": "code",
   "execution_count": null,
   "metadata": {},
   "outputs": [],
   "source": [
    "%%writefile WordCountMapper.java\n",
    "import java.io.IOException;\n",
    "import org.apache.hadoop.io.IntWritable;\n",
    "import org.apache.hadoop.io.LongWritable;\n",
    "import org.apache.hadoop.io.Text;\n",
    "import org.apache.hadoop.mapreduce.Mapper;\n",
    "\n",
    "public class WordCountMapper extends Mapper<LongWritable, Text, Text, IntWritable>\n",
    "{\n",
    "  private final static IntWritable one = new IntWritable(1);\n",
    "  private Text wordObject = new Text();\n",
    "\n",
    "  @Override\n",
    "  public void map(LongWritable key, Text value, Context context)\n",
    "    throws IOException, InterruptedException {\n",
    "\n",
    "   String line = value.toString();\n",
    "   for (String word : line.split(\"\\\\W+\")) {\n",
    "    if (word.length() > 0) {\n",
    "     wordObject.set(word);\n",
    "     context.write(wordObject, one);\n",
    "    }\n",
    "   }\n",
    "  }\n",
    "}"
   ]
  },
  {
   "cell_type": "code",
   "execution_count": null,
   "metadata": {},
   "outputs": [],
   "source": [
    "%%writefile WordCountReducer.java\n",
    "// WordCountReducer.java\n",
    "import java.io.IOException;\n",
    "import org.apache.hadoop.io.IntWritable;\n",
    "import org.apache.hadoop.io.Text;\n",
    "import org.apache.hadoop.mapreduce.Reducer;\n",
    "\n",
    "public class WordCountReducer extends Reducer<Text, IntWritable, Text, IntWritable>\n",
    "{\n",
    "  private IntWritable wordCountWritable = new IntWritable();\n",
    "  @Override\n",
    "   public void reduce(Text key, Iterable<IntWritable> values, Context context)\n",
    "             throws IOException, InterruptedException {\n",
    "         int wordCount = 0;\n",
    "         for (IntWritable value : values) {\n",
    "             wordCount += value.get();\n",
    "         }\n",
    "         wordCountWritable.set(wordCount);\n",
    "         context.write(key, wordCountWritable);\n",
    "    }\n",
    "}"
   ]
  },
  {
   "cell_type": "code",
   "execution_count": null,
   "metadata": {},
   "outputs": [],
   "source": [
    "%%bash\n",
    "\n",
    "hadoop classpath"
   ]
  },
  {
   "cell_type": "code",
   "execution_count": null,
   "metadata": {},
   "outputs": [],
   "source": [
    "%%bash\n",
    "\n",
    "# compile source code and create jar file\n",
    "javac -classpath `hadoop classpath` *.java\n",
    "jar cvf wc.jar *.class\n",
    "ls"
   ]
  },
  {
   "cell_type": "code",
   "execution_count": null,
   "metadata": {},
   "outputs": [],
   "source": [
    "%%bash\n",
    "\n",
    "cd /opt/datasets\n",
    "# download book \"The Complete Works of William Shakespeare, by William Shakespeare\" from Gutenberg Project\n",
    "wget -q -c http://www.gutenberg.org/files/100/100-0.txt -O shakespeare.txt\n",
    "    \n",
    "# create directory in HDFS and put file\n",
    "hdfs dfs -mkdir shakespeare\n",
    "hdfs dfs -put shakespeare.txt shakespeare\n",
    "hdfs dfs -ls -h shakespeare"
   ]
  },
  {
   "cell_type": "code",
   "execution_count": null,
   "metadata": {},
   "outputs": [],
   "source": [
    "%%bash\n",
    "\n",
    "# run wordcount using 2 reducers\n",
    "hadoop jar wc.jar WordCountDriver -D mapreduce.job.reduces=2 shakespeare shakespeare-output"
   ]
  },
  {
   "cell_type": "code",
   "execution_count": null,
   "metadata": {},
   "outputs": [],
   "source": [
    "%%bash\n",
    "\n",
    "cd /opt/datasets\n",
    "\n",
    "# check output files\n",
    "hdfs dfs -ls shakespeare-output\n",
    "\n",
    "# get output from HDFS\n",
    "hdfs dfs -getmerge shakespeare-output shakespeare-output.txt\n",
    "\n",
    "# head shakespeare-output.txt\n",
    "head shakespeare-output.txt"
   ]
  },
  {
   "cell_type": "markdown",
   "metadata": {},
   "source": [
    "## Hadoop Streaming"
   ]
  },
  {
   "cell_type": "code",
   "execution_count": null,
   "metadata": {},
   "outputs": [],
   "source": [
    "%mkdir /opt/src/wc_streaming\n",
    "%cd /opt/src/wc_streaming"
   ]
  },
  {
   "cell_type": "code",
   "execution_count": null,
   "metadata": {},
   "outputs": [],
   "source": [
    "%%writefile wordmapper.py\n",
    "#!/usr/bin/env python3\n",
    "# wordmapper.py\n",
    "\n",
    "import sys\n",
    "for line in sys.stdin:\n",
    "  line = line.strip()\n",
    "  words = line.split()\n",
    "  for word in words:\n",
    "   print('%s\\t%s' % (word, 1))"
   ]
  },
  {
   "cell_type": "code",
   "execution_count": null,
   "metadata": {},
   "outputs": [],
   "source": [
    "%%writefile wordreducer.py\n",
    "#!/usr/bin/env python3\n",
    "# wordreducer.py\n",
    "\n",
    "import sys\n",
    "\n",
    "thisword = None\n",
    "wordcount = 0\n",
    "word = None\n",
    "\n",
    "for line in sys.stdin:\n",
    "    line = line.strip()\n",
    "    word, count = line.split('\\t', 1)\n",
    "    count = int(count)\n",
    "\n",
    "    if thisword == word:\n",
    "        wordcount += count\n",
    "    else:\n",
    "        if thisword:\n",
    "            print('%s\\t%d' % (thisword, wordcount))\n",
    "        wordcount = count\n",
    "        thisword = word\n",
    "\n",
    "if thisword == word:\n",
    "    print('%s\\t%d' % (thisword, wordcount))"
   ]
  },
  {
   "cell_type": "code",
   "execution_count": null,
   "metadata": {},
   "outputs": [],
   "source": [
    "%%bash\n",
    "\n",
    "cd /opt/datasets\n",
    "\n",
    "# download book \"Ulysses, by James Joyce\" from Gutenberg Project\n",
    "wget -q -c http://www.gutenberg.org/files/4300/4300-0.txt -O ulysses.txt\n",
    "    \n",
    "# create directory in HDFS and put file\n",
    "hdfs dfs -mkdir ulysses\n",
    "hdfs dfs -put ulysses.txt ulysses\n",
    "hdfs dfs -ls -h ulysses"
   ]
  },
  {
   "cell_type": "code",
   "execution_count": null,
   "metadata": {},
   "outputs": [],
   "source": [
    "%%bash\n",
    "\n",
    "# execute using Hadoop Streaming\n",
    "hadoop jar \\\n",
    "$HADOOP_HOME/share/hadoop/tools/lib/hadoop-streaming-3.2.3.jar \\\n",
    "-input ulysses \\\n",
    "-output ulysses-output \\\n",
    "-mapper wordmapper.py \\\n",
    "-reducer wordreducer.py \\\n",
    "-file wordmapper.py \\\n",
    "-file wordreducer.py"
   ]
  },
  {
   "cell_type": "code",
   "execution_count": null,
   "metadata": {},
   "outputs": [],
   "source": [
    "%%bash\n",
    "\n",
    "cd /opt/datasets\n",
    "\n",
    "# check output files\n",
    "hdfs dfs -ls ulysses-output\n",
    "\n",
    "# get output from HDFS\n",
    "hdfs dfs -getmerge ulysses-output ulysses-output.txt\n",
    "\n",
    "# head output\n",
    "head ulysses-output.txt"
   ]
  },
  {
   "cell_type": "code",
   "execution_count": null,
   "metadata": {},
   "outputs": [],
   "source": []
  }
 ],
 "metadata": {
  "kernelspec": {
   "display_name": "Python 3",
   "language": "python",
   "name": "python3"
  },
  "language_info": {
   "codemirror_mode": {
    "name": "ipython",
    "version": 3
   },
   "file_extension": ".py",
   "mimetype": "text/x-python",
   "name": "python",
   "nbconvert_exporter": "python",
   "pygments_lexer": "ipython3",
   "version": "3.6.9"
  }
 },
 "nbformat": 4,
 "nbformat_minor": 4
}
